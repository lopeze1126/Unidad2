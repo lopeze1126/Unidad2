{
 "cells": [
  {
   "cell_type": "code",
   "execution_count": 1,
   "metadata": {
    "collapsed": true
   },
   "outputs": [],
   "source": [
    "import numpy as np\n",
    "import matplotlib.pyplot as plt\n",
    "\n",
    "G=6.67e-11\n",
    "Ms=1.989e30\n",
    "AU=149.6e9 #Unidad astronómica en metros\n",
    "a=17.834*AU\n",
    "e=0.96714\n",
    "\n",
    "year=86400*365.25\n",
    "\n",
    "t_ini=0.0\n",
    "t_end=75.32*year\n",
    "\n",
    "time_array=np.linspace(t_ini,t_end,1000)\n",
    "\n",
    "\n",
    "\n",
    "def f(E,t):\n",
    "       \n",
    "    value=E-e*np.sin(E)-(G*Ms/a**3)**0.5 *t\n",
    "    \n",
    "    return value\n",
    "\n",
    "def dfdE(E):\n",
    "    e=0.96714\n",
    "    value=1-e*np.cos(E)\n",
    "    return value\n",
    "\n",
    "\n"
   ]
  },
  {
   "cell_type": "code",
   "execution_count": 9,
   "metadata": {},
   "outputs": [
    {
     "data": {
      "image/png": "[encoded data removed]",
      "text/plain": [
       "<matplotlib.figure.Figure at 0x7fe4f0053d30>"
      ]
     },
     "metadata": {},
     "output_type": "display_data"
    }
   ],
   "source": [
    "Tol=1.0e-6\n",
    "Nmax=1000\n",
    "phi_array=[]\n",
    "r_array=[]\n",
    "\n",
    "for i in range(0,len(time_array)):\n",
    "    error=1.0\n",
    "    iteracion=0\n",
    "    p_prev=(G*Ms/a**3)**0.5 *time_array[i] #Anomalía media\n",
    "    while (error>Tol):\n",
    "        p=p_prev-f(p_prev,time_array[i])/dfdE(p_prev)\n",
    "        error=abs(p-p_prev)\n",
    "        p_prev=p\n",
    "        iteracion=iteracion+1\n",
    "        if (iteracion>=Nmax):\n",
    "            print (\"El método no converge\")\n",
    "            break\n",
    "        \n",
    "    phi=2.0*np.arctan(((1+e)/(1-e))**0.5  * np.tan(0.5*p))\n",
    "    r=a*(1-e**2)/(1+e*np.cos(phi))\n",
    "    phi_array.append(phi)\n",
    "    r_array.append(r)\n",
    "    \n",
    "x_array=[]\n",
    "y_array=[]\n",
    "\n",
    "for i in range (0, len(r_array)):\n",
    "    x_array.append(r_array[i]*np.cos(phi_array[i])/AU)\n",
    "    y_array.append(r_array[i]*np.sin(phi_array[i])/AU)\n",
    "    \n",
    "    \n",
    "    \n",
    "fig=plt.figure()\n",
    "ax=plt.axes()\n",
    "ax.plot(x_array,y_array)\n",
    "ax.plot(0,0,'*')\n",
    "ax.set_aspect('equal')\n",
    "ax.set_xlabel(\"x [AU]\")\n",
    "ax.set_ylabel(\"y [AU]\")\n",
    "plt.show()\n",
    "        \n",
    "        \n",
    "        \n",
    "        \n"
   ]
  },
  {
   "cell_type": "code",
   "execution_count": null,
   "metadata": {
    "collapsed": true
   },
   "outputs": [],
   "source": []
  }
 ],
 "metadata": {
  "kernelspec": {
   "display_name": "Python 3",
   "language": "python",
   "name": "python3"
  },
  "language_info": {
   "codemirror_mode": {
    "name": "ipython",
    "version": 3
   },
   "file_extension": ".py",
   "mimetype": "text/x-python",
   "name": "python",
   "nbconvert_exporter": "python",
   "pygments_lexer": "ipython3",
   "version": "3.6.3"
  }
 },
 "nbformat": 4,
 "nbformat_minor": 2
}

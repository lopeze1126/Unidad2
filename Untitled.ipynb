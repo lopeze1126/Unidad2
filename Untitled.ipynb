{
 "cells": [
  {
   "cell_type": "markdown",
   "metadata": {},
   "source": [
    "# El método de bisección"
   ]
  },
  {
   "cell_type": "markdown",
   "metadata": {},
   "source": [
    "Vamos a resolver la ecuación $x^3+4x^2-10=0$ en el intervalo [1,2]"
   ]
  },
  {
   "cell_type": "markdown",
   "metadata": {},
   "source": [
    "#Funciones auxiliares"
   ]
  },
  {
   "cell_type": "code",
   "execution_count": 15,
   "metadata": {},
   "outputs": [],
   "source": [
    "import math as m\n",
    "import numpy as np\n",
    "import matplotlib.pyplot as plt\n",
    "\n",
    "# Definimos la función a resolver\n",
    "\n",
    "def func(x):\n",
    "    value=x**3 +4*x**2-10\n",
    "    return value\n",
    "\n",
    "def sign(x):\n",
    "    if x>0:\n",
    "        return 1\n",
    "    elif x<0:\n",
    "        return -1\n",
    "    else: \n",
    "        return 0\n",
    "    \n"
   ]
  },
  {
   "cell_type": "markdown",
   "metadata": {},
   "source": [
    "# El método"
   ]
  },
  {
   "cell_type": "code",
   "execution_count": 19,
   "metadata": {},
   "outputs": [
    {
     "name": "stdout",
     "output_type": "stream",
     "text": [
      "pi=1.250000\t ai=1.000000\t bi=1.500000\t f(pi)=-1.796875 \t error=0.250000\n",
      "pi=1.375000\t ai=1.250000\t bi=1.500000\t f(pi)=0.162109 \t error=0.125000\n",
      "pi=1.312500\t ai=1.250000\t bi=1.375000\t f(pi)=-0.848389 \t error=0.062500\n",
      "pi=1.343750\t ai=1.312500\t bi=1.375000\t f(pi)=-0.350983 \t error=0.031250\n",
      "pi=1.359375\t ai=1.343750\t bi=1.375000\t f(pi)=-0.096409 \t error=0.015625\n",
      "pi=1.367188\t ai=1.359375\t bi=1.375000\t f(pi)=0.032356 \t error=0.007812\n",
      "pi=1.363281\t ai=1.359375\t bi=1.367188\t f(pi)=-0.032150 \t error=0.003906\n",
      "pi=1.365234\t ai=1.363281\t bi=1.367188\t f(pi)=0.000072 \t error=0.001953\n",
      "pi=1.364258\t ai=1.363281\t bi=1.365234\t f(pi)=-0.016047 \t error=0.000977\n",
      "pi=1.364746\t ai=1.364258\t bi=1.365234\t f(pi)=-0.007989 \t error=0.000488\n",
      "pi=1.364990\t ai=1.364746\t bi=1.365234\t f(pi)=-0.003959 \t error=0.000244\n",
      "pi=1.365112\t ai=1.364990\t bi=1.365234\t f(pi)=-0.001944 \t error=0.000122\n",
      "pi=1.365173\t ai=1.365112\t bi=1.365234\t f(pi)=-0.000936 \t error=0.000061\n",
      "pi=1.365204\t ai=1.365173\t bi=1.365234\t f(pi)=-0.000432 \t error=0.000031\n",
      "pi=1.365219\t ai=1.365204\t bi=1.365234\t f(pi)=-0.000180 \t error=0.000015\n",
      "pi=1.365227\t ai=1.365219\t bi=1.365234\t f(pi)=-0.000054 \t error=0.000008\n",
      "pi=1.365231\t ai=1.365227\t bi=1.365234\t f(pi)=0.000009 \t error=0.000004\n",
      "pi=1.365229\t ai=1.365227\t bi=1.365231\t f(pi)=-0.000022 \t error=0.000002\n",
      "pi=1.365230\t ai=1.365229\t bi=1.365231\t f(pi)=-0.000007 \t error=0.000001\n",
      "pi=1.365230\t ai=1.365230\t bi=1.365231\t f(pi)=0.000001 \t error=0.000000\n",
      "pi=1.365230\t ai=1.365230\t bi=1.365230\t f(pi)=-0.000003 \t error=0.000000\n",
      "pi=1.365230\t ai=1.365230\t bi=1.365230\t f(pi)=-0.000001 \t error=0.000000\n",
      "pi=1.365230\t ai=1.365230\t bi=1.365230\t f(pi)=0.000000 \t error=0.000000\n",
      "pi=1.365230\t ai=1.365230\t bi=1.365230\t f(pi)=-0.000000 \t error=0.000000\n",
      "pi=1.365230\t ai=1.365230\t bi=1.365230\t f(pi)=-0.000000 \t error=0.000000\n",
      "pi=1.365230\t ai=1.365230\t bi=1.365230\t f(pi)=0.000000 \t error=0.000000\n",
      "pi=1.365230\t ai=1.365230\t bi=1.365230\t f(pi)=-0.000000 \t error=0.000000\n",
      "pi=1.365230\t ai=1.365230\t bi=1.365230\t f(pi)=0.000000 \t error=0.000000\n",
      "pi=1.365230\t ai=1.365230\t bi=1.365230\t f(pi)=0.000000 \t error=0.000000\n",
      "pi=1.365230\t ai=1.365230\t bi=1.365230\t f(pi)=-0.000000 \t error=0.000000\n",
      "pi=1.365230\t ai=1.365230\t bi=1.365230\t f(pi)=-0.000000 \t error=0.000000\n",
      "pi=1.365230\t ai=1.365230\t bi=1.365230\t f(pi)=0.000000 \t error=0.000000\n",
      "pi=1.365230\t ai=1.365230\t bi=1.365230\t f(pi)=0.000000 \t error=0.000000\n",
      "pi=1.365230\t ai=1.365230\t bi=1.365230\t f(pi)=-0.000000 \t error=0.000000\n",
      "pi=1.365230\t ai=1.365230\t bi=1.365230\t f(pi)=0.000000 \t error=0.000000\n",
      "pi=1.365230\t ai=1.365230\t bi=1.365230\t f(pi)=0.000000 \t error=0.000000\n",
      "pi=1.365230\t ai=1.365230\t bi=1.365230\t f(pi)=0.000000 \t error=0.000000\n",
      "pi=1.365230\t ai=1.365230\t bi=1.365230\t f(pi)=0.000000 \t error=0.000000\n",
      "pi=1.365230\t ai=1.365230\t bi=1.365230\t f(pi)=-0.000000 \t error=0.000000\n",
      "pi=1.365230\t ai=1.365230\t bi=1.365230\t f(pi)=-0.000000 \t error=0.000000\n",
      "pi=1.365230\t ai=1.365230\t bi=1.365230\t f(pi)=0.000000 \t error=0.000000\n",
      "pi=1.365230\t ai=1.365230\t bi=1.365230\t f(pi)=0.000000 \t error=0.000000\n",
      "pi=1.365230\t ai=1.365230\t bi=1.365230\t f(pi)=-0.000000 \t error=0.000000\n",
      "pi=1.365230\t ai=1.365230\t bi=1.365230\t f(pi)=0.000000 \t error=0.000000\n",
      "pi=1.365230\t ai=1.365230\t bi=1.365230\t f(pi)=-0.000000 \t error=0.000000\n",
      "pi=1.365230\t ai=1.365230\t bi=1.365230\t f(pi)=0.000000 \t error=0.000000\n",
      "pi=1.365230\t ai=1.365230\t bi=1.365230\t f(pi)=-0.000000 \t error=0.000000\n",
      "pi=1.365230\t ai=1.365230\t bi=1.365230\t f(pi)=0.000000 \t error=0.000000\n",
      "pi=1.365230\t ai=1.365230\t bi=1.365230\t f(pi)=0.000000 \t error=0.000000\n",
      "Solución = 1.3652300134140969 \n",
      "f(c)=0.0000000000000000\n"
     ]
    }
   ],
   "source": [
    "# Longitud del intervalo\n",
    "ai=1.0\n",
    "bi=2.0\n",
    "Tol= 1.0e-15\n",
    "Nmax= 1000\n",
    "iteracion=0\n",
    "#Error inicial\n",
    "\n",
    "error=1.0\n",
    "\n",
    "# Verificación del teorema del valor intermedio\n",
    "\n",
    "if(sign(func(ai))*sign(func(bi))<0):\n",
    "    while (error>Tol):\n",
    "        pi=0.5*(ai+bi)\n",
    "        pi_previo=pi\n",
    "        \n",
    "        if(sign(func(pi))==sign(func(ai))):\n",
    "            ai=pi\n",
    "            bi=bi\n",
    "        \n",
    "        elif(sign(func(pi))==sign(func(bi))):\n",
    "            ai=ai\n",
    "            bi=pi\n",
    "        pi=0.5*(ai+bi)\n",
    "        error=abs(pi-pi_previo)\n",
    "        iteracion=iteracion+1\n",
    "        \n",
    "        print(\"pi=%f\\t ai=%f\\t bi=%f\\t f(pi)=%f \\t error=%f\"%(pi,ai,bi,func(pi),error))\n",
    "        \n",
    "        if(iteracion>Nmax):\n",
    "            print(\"Número máximo de iteraciones excedido\")\n",
    "            break\n",
    "        \n",
    "        \n",
    "else:\n",
    "    print(\"Intervalo inadecuado\")\n",
    "    \n",
    "print (\"Solución = %.16f \\nf(c)=%.16f\" %(pi,func(pi)))"
   ]
  },
  {
   "cell_type": "code",
   "execution_count": null,
   "metadata": {
    "collapsed": true
   },
   "outputs": [],
   "source": []
  }
 ],
 "metadata": {
  "kernelspec": {
   "display_name": "Python 3",
   "language": "python",
   "name": "python3"
  },
  "language_info": {
   "codemirror_mode": {
    "name": "ipython",
    "version": 3
   },
   "file_extension": ".py",
   "mimetype": "text/x-python",
   "name": "python",
   "nbconvert_exporter": "python",
   "pygments_lexer": "ipython3",
   "version": "3.6.3"
  }
 },
 "nbformat": 4,
 "nbformat_minor": 2
}

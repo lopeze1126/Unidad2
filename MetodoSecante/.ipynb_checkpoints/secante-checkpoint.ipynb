{
 "cells": [
  {
   "cell_type": "code",
   "execution_count": 28,
   "metadata": {},
   "outputs": [
    {
     "name": "stdout",
     "output_type": "stream",
     "text": [
      "p_n=0.2836621854632266\t error=5.2836621854632266\t abs(f(p_n))=0.6763747448314348\t \n",
      "p_n=1.0593324054176667\t error=0.7756702199544401\t abs(f(p_n))=0.5698780527473846\t \n",
      "p_n=0.7046391719255949\t error=0.3546932334920718\t abs(f(p_n))=0.0572061590505228\t \n",
      "p_n=0.7369962894347674\t error=0.0323571175091725\t abs(f(p_n))=0.0034943006419189\t \n",
      "p_n=0.7391013273134202\t error=0.0021050378786528\t abs(f(p_n))=0.0000271027345605\t \n",
      "p_n=0.7390851257378648\t error=0.0000162015755554\t abs(f(p_n))=0.0000000125140923\t \n",
      "p_n=0.7390851332151339\t error=0.0000000074772691\t abs(f(p_n))=0.0000000000000447\t \n",
      "p_n=0.7390851332151607\t error=0.0000000000000268\t abs(f(p_n))=0.0000000000000000\t \n",
      "p_n=0.7390851332151607\t error=0.0000000000000000\t abs(f(p_n))=0.0000000000000000\t \n"
     ]
    }
   ],
   "source": [
    "import numpy as np\n",
    "import math as m\n",
    "\n",
    "def f(x):\n",
    "    return (m.cos(x)-x)\n",
    "\n",
    "Nmax=1000\n",
    "p_prev1=-5.0\n",
    "p_prev2=5.0\n",
    "error=1.0\n",
    "iteration=0.0\n",
    "tol=10**(-15)\n",
    "\n",
    "while (error>tol):\n",
    "    p=p_prev1-(((p_prev1-p_prev2)*f(p_prev1))/(f(p_prev1)-f(p_prev2)))\n",
    "    error=abs(p-p_prev1)\n",
    "    p_prev2=p_prev1\n",
    "    p_prev1=p\n",
    "    \n",
    "    iteration=iteration+1\n",
    "   \n",
    "    if (iteration>Nmax):\n",
    "        print(\"El método no converge despues de %d iteraciones\" %(Nmax))\n",
    "        break\n",
    "        \n",
    "    \n",
    "    print(\"p_n=%.16f\\t error=%.16f\\t abs(f(p_n))=%.16f\\t \" %(p,error,abs(f(p))))\n",
    "    \n",
    "    "
   ]
  },
  {
   "cell_type": "code",
   "execution_count": null,
   "metadata": {
    "collapsed": true
   },
   "outputs": [],
   "source": []
  }
 ],
 "metadata": {
  "kernelspec": {
   "display_name": "Python 3",
   "language": "python",
   "name": "python3"
  },
  "language_info": {
   "codemirror_mode": {
    "name": "ipython",
    "version": 3
   },
   "file_extension": ".py",
   "mimetype": "text/x-python",
   "name": "python",
   "nbconvert_exporter": "python",
   "pygments_lexer": "ipython3",
   "version": "3.6.3"
  }
 },
 "nbformat": 4,
 "nbformat_minor": 2
}
